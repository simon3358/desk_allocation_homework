{
 "cells": [
  {
   "cell_type": "markdown",
   "id": "235cec54",
   "metadata": {},
   "source": [
    "## Desk allocation problem\n",
    "### IQVIA homework\n",
    "#### by Simon Zatko\n",
    "---"
   ]
  },
  {
   "cell_type": "markdown",
   "id": "35f7d649",
   "metadata": {},
   "source": [
    "### imports, constants, files"
   ]
  },
  {
   "cell_type": "code",
   "execution_count": 1,
   "id": "e7c8fdd8",
   "metadata": {},
   "outputs": [],
   "source": [
    "import csv\n",
    "import random\n",
    "from difflib import SequenceMatcher"
   ]
  },
  {
   "cell_type": "code",
   "execution_count": 2,
   "id": "0b88a6a8",
   "metadata": {},
   "outputs": [],
   "source": [
    "CORR = 1    # corridor/obstacle in office 2d array\n",
    "FREE = 0    # free desk in office 2d array\n",
    "SIM_TEAM_RATE = 0.4   # hyperparameter - which team similarity we consider as 1 group"
   ]
  },
  {
   "cell_type": "code",
   "execution_count": 3,
   "id": "85f4cb42",
   "metadata": {},
   "outputs": [],
   "source": [
    "with open('Employees.csv', newline='') as f:\n",
    "    reader = csv.reader(f)\n",
    "    employees = list(reader)"
   ]
  },
  {
   "cell_type": "markdown",
   "id": "db0a03ed",
   "metadata": {},
   "source": [
    "### help functions"
   ]
  },
  {
   "cell_type": "code",
   "execution_count": 4,
   "id": "72a922c5",
   "metadata": {},
   "outputs": [],
   "source": [
    "def get_office_size(office):    # get office height and width\n",
    "    return len(office), len(office[0])\n",
    "\n",
    "def get_similarity(str1, str2):    # get 2 strings similarity - needed for team similarity\n",
    "    return SequenceMatcher(None, str1, str2).ratio()\n",
    "\n",
    "def get_employee_dic(employees):    # convert list of employees to dictionary\n",
    "    emp_dic = {}\n",
    "    for emp in employees:\n",
    "        emp_dic[emp[0]] = emp[1]\n",
    "    return emp_dic\n",
    "\n",
    "def get_neighbors_count(office, i, j):    # get count of employees in nearest desks\n",
    "    p, q = get_office_size(office)\n",
    "    neighbors = 0\n",
    "    if i > 0 and office[i-1][j] not in (FREE, CORR):\n",
    "        neighbors += 1 \n",
    "    if j > 0 and office[i][j-1] not in (FREE, CORR):\n",
    "        neighbors += 1 \n",
    "    if i < p-1 and office[i+1][j] not in (FREE, CORR):\n",
    "        neighbors += 1 \n",
    "    if j < q-1 and office[i][j+1] not in (FREE, CORR):\n",
    "        neighbors += 1 \n",
    "    return neighbors\n",
    "\n",
    "def get_free_neighbors_count(office, i, j):    # get count of free desks in nearest desks\n",
    "    p, q = get_office_size(office)\n",
    "    neighbors = 0\n",
    "    if i > 0 and office[i-1][j] == FREE:\n",
    "        neighbors += 1 \n",
    "    if j > 0 and office[i][j-1] == FREE:\n",
    "        neighbors += 1 \n",
    "    if i < p-1 and office[i+1][j] == FREE:\n",
    "        neighbors += 1 \n",
    "    if j < q-1 and office[i][j+1] == FREE:\n",
    "        neighbors += 1 \n",
    "    return neighbors\n",
    "\n",
    "def get_first_free_neighbor_coords(office, i, j):    # get first nearest free desk positions\n",
    "    p, q = get_office_size(office)\n",
    "    if i > 0 and office[i-1][j] == FREE:\n",
    "        return i-1,j\n",
    "    if j > 0 and office[i][j-1] == FREE:\n",
    "        return i,j-1 \n",
    "    if i < p-1 and office[i+1][j] == FREE:\n",
    "        return i+1,j \n",
    "    if j < q-1 and office[i][j+1] == FREE:\n",
    "        return i,j+1\n",
    "    return False"
   ]
  },
  {
   "cell_type": "markdown",
   "id": "37ed3cff",
   "metadata": {},
   "source": [
    "### 1. random_office\n",
    "- this function generate pseudo-random 2D array of free desks and other items:\n",
    "    - we create corridors, based on density of desks in PxQ array\n",
    "    - we add random items/obstacles to adjust D - number of free desks"
   ]
  },
  {
   "cell_type": "code",
   "execution_count": 5,
   "id": "8b6ed4af",
   "metadata": {},
   "outputs": [],
   "source": [
    "def random_office(p, q, d):\n",
    "    matrix = [[FREE]*q for i in range(p)]\n",
    "    dens = int(d / (p*q) * 10)\n",
    "    if dens < 3:\n",
    "        dens = 3\n",
    "    max_corrs = p*q - d\n",
    "\n",
    "    for i in range(p):\n",
    "        for j in range(q):\n",
    "            if max_corrs and (i%dens == dens-1 or j%dens == dens-1):\n",
    "                matrix[i][j] = CORR\n",
    "                max_corrs -= 1\n",
    "\n",
    "    while max_corrs > 0:\n",
    "        rand_p = random.randint(0,p-1)\n",
    "        rand_q = random.randint(0,q-1)\n",
    "        if matrix[rand_p][rand_q] == FREE:\n",
    "            matrix[rand_p][rand_q] = CORR\n",
    "            max_corrs -= 1\n",
    "\n",
    "    return matrix"
   ]
  },
  {
   "cell_type": "markdown",
   "id": "5d049f54",
   "metadata": {},
   "source": [
    "### 2. collocation_score\n",
    "- this functions returns value (0,1), which represent how good are employees seated in office\n",
    "- best score is achieved by allocation some team together, but we have to consider also team / groups similarities (2 developers are better than dev + analyst)"
   ]
  },
  {
   "cell_type": "code",
   "execution_count": 6,
   "id": "7dfcf4dc",
   "metadata": {},
   "outputs": [],
   "source": [
    "def get_neighbors_best_similarity_score(office, i, j, employees, emp_id):\n",
    "    p, q = get_office_size(office)\n",
    "    emp_dic = get_employee_dic(employees)\n",
    "    emp_team = emp_dic[emp_id]\n",
    "    best_similarity = 0\n",
    "\n",
    "    nbrs_cnt = get_neighbors_count(office, i, j)\n",
    "    # take the same / most similar team names from employees in office\n",
    "    best_nbrs = list({k: v for k, v in sorted(emp_dic.items(), key=lambda item: get_similarity(item[1], emp_team), reverse=True)[:nbrs_cnt]}.values())\n",
    "    for nbr in best_nbrs:\n",
    "        best_similarity += get_similarity(emp_team, nbr)\n",
    "    \n",
    "    return best_similarity\n",
    "    \n",
    "\n",
    "def get_neighbors_curr_similarity_score(office, i, j, employees, emp_id):\n",
    "    p, q = get_office_size(office)\n",
    "    emp_dic = get_employee_dic(employees)\n",
    "    emp_team = emp_dic[emp_id]\n",
    "    curr_similarity = 0\n",
    "    \n",
    "    if i > 0 and office[i-1][j] not in (FREE, CORR):\n",
    "        curr_similarity += get_similarity(emp_team, emp_dic[office[i-1][j]])\n",
    "    if j > 0 and office[i][j-1] not in (FREE, CORR):\n",
    "        curr_similarity += get_similarity(emp_team, emp_dic[office[i][j-1]])\n",
    "    if i < p-1 and office[i+1][j] not in (FREE, CORR):\n",
    "        curr_similarity += get_similarity(emp_team, emp_dic[office[i+1][j]])\n",
    "    if j < q-1 and office[i][j+1] not in (FREE, CORR):\n",
    "        curr_similarity += get_similarity(emp_team, emp_dic[office[i][j+1]])\n",
    "    \n",
    "    return curr_similarity\n",
    "    \n",
    "\n",
    "def collocation_score(office, employees):\n",
    "    p, q = get_office_size(office)\n",
    "    best_similarity = 0\n",
    "    curr_similarity = 0\n",
    "    for i in range(p):\n",
    "        for j in range(q):\n",
    "            if office[i][j] not in (FREE, CORR):\n",
    "                best_similarity += get_neighbors_best_similarity_score(office, i, j, employees, office[i][j])\n",
    "                curr_similarity += get_neighbors_curr_similarity_score(office, i, j, employees, office[i][j])              \n",
    "                \n",
    "    if best_similarity:\n",
    "        return curr_similarity / best_similarity\n",
    "    return 0"
   ]
  },
  {
   "cell_type": "markdown",
   "id": "02b5cc1e",
   "metadata": {},
   "source": [
    "### 3. assign_desk\n",
    "- assign desk to new employees sequentally:\n",
    "    - take a seat near to colleque from the same team or eventually from similar team / team-group (developers, testers, analysts etc.)\n",
    "    - if there are no similar colleque, take a random desk from office"
   ]
  },
  {
   "cell_type": "code",
   "execution_count": 7,
   "id": "2fd92c24",
   "metadata": {},
   "outputs": [],
   "source": [
    "def assign_emp_to_desk(office, i, j, emp, seated):\n",
    "    office[i][j] = emp[0]\n",
    "    free_neighbors = get_neighbors_count(office, i, j)\n",
    "    if free_neighbors:\n",
    "        seated.append([emp[1], i, j])\n",
    "\n",
    "def assign_desk(office, employees):\n",
    "    p, q = get_office_size(office)\n",
    "    seated = []\n",
    "    \n",
    "    for emp in employees:\n",
    "        most_similar_value = 0\n",
    "        most_similar = False\n",
    "        \n",
    "        for seat in seated:\n",
    "            similarity = SequenceMatcher(None, seat[0], emp[1]).ratio()\n",
    "            if similarity >= SIM_TEAM_RATE and similarity > most_similar_value and get_free_neighbors_count(office, seat[1], seat[2]):\n",
    "                most_similar = seat\n",
    "              \n",
    "        if most_similar:\n",
    "            new_i, new_j = get_first_free_neighbor_coords(office, most_similar[1], most_similar[2])\n",
    "            assign_emp_to_desk(office, new_i, new_j, emp, seated)\n",
    "        else:\n",
    "            while 1:\n",
    "                i = random.randint(0,p-1)\n",
    "                j = random.randint(0,q-1)\n",
    "                if office[i][j] == 0:\n",
    "                    assign_emp_to_desk(office, i, j, emp, seated)\n",
    "                    break"
   ]
  },
  {
   "cell_type": "markdown",
   "id": "14c5df23",
   "metadata": {},
   "source": [
    "### 4. evaluation"
   ]
  },
  {
   "cell_type": "code",
   "execution_count": 8,
   "id": "c3513bf8",
   "metadata": {},
   "outputs": [
    {
     "data": {
      "text/plain": [
       "0.5827870648032916"
      ]
     },
     "execution_count": 8,
     "metadata": {},
     "output_type": "execute_result"
    }
   ],
   "source": [
    "office = random_office(10, 10, 60)\n",
    "employees_sub = random.sample(employees[1:], 50)\n",
    "assign_desk(office, employees_sub)\n",
    "collocation_score(office, employees_sub)"
   ]
  },
  {
   "cell_type": "code",
   "execution_count": 9,
   "id": "2cc65591",
   "metadata": {},
   "outputs": [
    {
     "data": {
      "text/plain": [
       "0.6030730615270523"
      ]
     },
     "execution_count": 9,
     "metadata": {},
     "output_type": "execute_result"
    }
   ],
   "source": [
    "office = random_office(20, 20, 300)\n",
    "employees_sub = random.sample(employees[1:], 300)\n",
    "assign_desk(office, employees_sub)\n",
    "collocation_score(office, employees_sub)"
   ]
  },
  {
   "cell_type": "code",
   "execution_count": 10,
   "id": "f6eec795",
   "metadata": {},
   "outputs": [
    {
     "data": {
      "text/plain": [
       "0.5683930128404685"
      ]
     },
     "execution_count": 10,
     "metadata": {},
     "output_type": "execute_result"
    }
   ],
   "source": [
    "office = random_office(15, 55, 500)\n",
    "employees_sub = random.sample(employees[1:], 490)\n",
    "assign_desk(office, employees_sub)\n",
    "collocation_score(office, employees_sub)"
   ]
  },
  {
   "cell_type": "code",
   "execution_count": null,
   "id": "13040bec",
   "metadata": {},
   "outputs": [],
   "source": []
  }
 ],
 "metadata": {
  "kernelspec": {
   "display_name": "Python 3 (ipykernel)",
   "language": "python",
   "name": "python3"
  },
  "language_info": {
   "codemirror_mode": {
    "name": "ipython",
    "version": 3
   },
   "file_extension": ".py",
   "mimetype": "text/x-python",
   "name": "python",
   "nbconvert_exporter": "python",
   "pygments_lexer": "ipython3",
   "version": "3.9.5"
  }
 },
 "nbformat": 4,
 "nbformat_minor": 5
}
